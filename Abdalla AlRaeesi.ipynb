{
  "metadata": {
    "kernelspec": {
      "name": "python",
      "display_name": "Python (Pyodide)",
      "language": "python"
    },
    "language_info": {
      "codemirror_mode": {
        "name": "python",
        "version": 3
      },
      "file_extension": ".py",
      "mimetype": "text/x-python",
      "name": "python",
      "nbconvert_exporter": "python",
      "pygments_lexer": "ipython3",
      "version": "3.8"
    }
  },
  "nbformat_minor": 4,
  "nbformat": 4,
  "cells": [
    {
      "cell_type": "markdown",
      "source": "# Data Science Overview\n",
      "metadata": {}
    },
    {
      "cell_type": "markdown",
      "source": "## Introduction\n- This notebook provides an overview of various data science languages, libraries, tools, and basic arithmetic operations. It aims to give readers a concise understanding of the data science landscape.\n",
      "metadata": {}
    },
    {
      "cell_type": "markdown",
      "source": "### Data Science Languages\n- Python\n- R\n- SQL\n- Julia\n- Scala\n",
      "metadata": {}
    },
    {
      "cell_type": "markdown",
      "source": "### Data Science Libraries\n- Pandas\n- NumPy\n- Scikit-learn\n- TensorFlow\n- Matplotlib\n- ggplot2\n",
      "metadata": {}
    },
    {
      "cell_type": "markdown",
      "source": "## Data Science Tools\n\n| Tool            | Description                                                  |\n|-----------------|--------------------------------------------------------------|\n| Jupyter Notebook| An open-source web application for creating and sharing documents with live code. |\n| GitHub          | A platform for version control and collaboration.           |\n| RStudio         | An integrated development environment for R.                |\n| Apache Spark    | A distributed computing system for big data processing.     |\n| Tableau         | A data visualization tool for converting data into interactive dashboards. |\n",
      "metadata": {}
    },
    {
      "cell_type": "markdown",
      "source": "### Arithmetic Expression Examples\nIn this section, we will explore basic arithmetic operations such as addition and multiplication.\n",
      "metadata": {}
    },
    {
      "cell_type": "code",
      "source": "a = 10\nb = 5\nresult = (a * b) + (a + b)\nresult\n",
      "metadata": {
        "trusted": true
      },
      "outputs": [
        {
          "execution_count": 28,
          "output_type": "execute_result",
          "data": {
            "text/plain": "65"
          },
          "metadata": {}
        }
      ],
      "execution_count": 28
    },
    {
      "cell_type": "code",
      "source": "minutes = 120\nhours = minutes / 60\nhours\n",
      "metadata": {
        "trusted": true
      },
      "outputs": [
        {
          "execution_count": 29,
          "output_type": "execute_result",
          "data": {
            "text/plain": "2.0"
          },
          "metadata": {}
        }
      ],
      "execution_count": 29
    },
    {
      "cell_type": "markdown",
      "source": "## Objectives\n- Understand the core languages used in data science.\n- Familiarize with popular data science libraries.\n- Learn about various data science tools.\n- Execute basic arithmetic operations using Python.\n",
      "metadata": {}
    },
    {
      "cell_type": "markdown",
      "source": "## Author\nThis notebook was created by [Abdalla AlRaeesi].\n",
      "metadata": {}
    },
    {
      "cell_type": "code",
      "source": "",
      "metadata": {
        "trusted": true
      },
      "outputs": [],
      "execution_count": null
    }
  ]
}